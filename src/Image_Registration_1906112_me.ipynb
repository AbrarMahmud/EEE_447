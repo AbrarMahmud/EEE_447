{
  "nbformat": 4,
  "nbformat_minor": 0,
  "metadata": {
    "colab": {
      "provenance": [],
      "authorship_tag": "ABX9TyOPpa0mwGyDdgUk4gXetJoF",
      "include_colab_link": true
    },
    "kernelspec": {
      "name": "python3",
      "display_name": "Python 3"
    },
    "language_info": {
      "name": "python"
    }
  },
  "cells": [
    {
      "cell_type": "markdown",
      "metadata": {
        "id": "view-in-github",
        "colab_type": "text"
      },
      "source": [
        "<a href=\"https://colab.research.google.com/github/AbrarMahmud/EEE_447/blob/main/src/Image_Registration_1906112_me.ipynb\" target=\"_parent\"><img src=\"https://colab.research.google.com/assets/colab-badge.svg\" alt=\"Open In Colab\"/></a>"
      ]
    },
    {
      "cell_type": "code",
      "execution_count": null,
      "metadata": {
        "id": "LdRU2NSKvjV2"
      },
      "outputs": [],
      "source": [
        "## Import\n",
        "import os\n",
        "import cv2\n",
        "import numpy as np\n",
        "import matplotlib.pyplot as plt\n",
        "\n",
        "%matplotlib inline\n",
        "\n",
        "# List of image URLs on GitHub\n",
        "image_urls = [\n",
        "    \"https://raw.githubusercontent.com/AbrarMahmud/EEE_447/main/data/ref.jpg\",\n",
        "    \"https://raw.githubusercontent.com/AbrarMahmud/EEE_447/main/data/std_1.jpeg\",\n",
        "    \"https://raw.githubusercontent.com/AbrarMahmud/EEE_447/main/data/std_2.jpeg\",\n",
        "    \"https://raw.githubusercontent.com/AbrarMahmud/EEE_447/main/data/std_3.jpeg\"\n",
        "]\n",
        "\n",
        "# Folder where you want to save the images in Colab\n",
        "local_folder = \"/content/images/\"\n",
        "\n",
        "# Create the folder if it doesn't exist\n",
        "os.makedirs(local_folder, exist_ok=True)\n",
        "\n",
        "# Loop through each image URL\n",
        "for i, image_url in enumerate(image_urls, 1):\n",
        "    # Construct the local path for each image\n",
        "    local_path = os.path.join(local_folder, f\"sample_image_{i}.jpg\")\n",
        "\n",
        "    # Use wget to download the image\n",
        "    !wget $image_url -O $local_path\n",
        "\n",
        "    # Check if the download was successful\n",
        "    if os.path.isfile(local_path):\n",
        "        print(f\"Image {i} successfully saved to {local_path}\")\n",
        "    else:\n",
        "        print(f\"Failed to retrieve image {i}.\")\n",
        "\n",
        "# List the files in the local folder\n",
        "!ls $local_folder\n"
      ]
    },
    {
      "cell_type": "markdown",
      "source": [],
      "metadata": {
        "id": "wzuQ-v9I3ox4"
      }
    },
    {
      "cell_type": "markdown",
      "source": [
        "## In The Above Code\n",
        "In this code:\n",
        "\n",
        "**1**  !wget is used to download the image from the specified URL.\n",
        "\n",
        "**2**  -O is used to specify the local path where the downloaded file will be saved.\n",
        "\n",
        "**3**  when we execute !ls $local_folder, it essentially runs the shell command ls on the specified folder, displaying the list of files in that directory. This can be helpful to verify that the images were successfully downloaded and to see the names of the files in the specified folder."
      ],
      "metadata": {
        "id": "WSBFsQEQ1iI2"
      }
    },
    {
      "cell_type": "code",
      "source": [
        "# Read reference image\n",
        "refFilename = \"/content/images/ref.jpg\"\n",
        "print(\"Reading reference image:\", refFilename)\n",
        "im1 = cv2.imread(refFilename, cv2.IMREAD_COLOR)\n",
        "im1_cvt = cv2.cvtColor(im1, cv2.COLOR_BGR2RGB)\n",
        "\n",
        "# Read image to be aligned##################TEST_IMAGE#########################\n",
        "imFilename = \"/content/images/std_1.jpeg\"\n",
        "print(\"Reading image to align:\", imFilename)\n",
        "im2 = cv2.imread(imFilename, cv2.IMREAD_COLOR)\n",
        "im2_cvt = cv2.cvtColor(im2, cv2.COLOR_BGR2RGB) #This function is used only to convert BGR--->RGB"
      ],
      "metadata": {
        "id": "2ZHFQUew1Kxc"
      },
      "execution_count": null,
      "outputs": []
    }
  ]
}